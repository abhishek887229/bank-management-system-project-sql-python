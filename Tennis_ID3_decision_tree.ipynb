{
  "nbformat": 4,
  "nbformat_minor": 0,
  "metadata": {
    "colab": {
      "private_outputs": true,
      "provenance": [],
      "authorship_tag": "ABX9TyO0DHdJsAyJ7fujMrV8uPXn",
      "include_colab_link": true
    },
    "kernelspec": {
      "name": "python3",
      "display_name": "Python 3"
    },
    "language_info": {
      "name": "python"
    }
  },
  "cells": [
    {
      "cell_type": "markdown",
      "metadata": {
        "id": "view-in-github",
        "colab_type": "text"
      },
      "source": [
        "<a href=\"https://colab.research.google.com/github/abhishek887229/bank-management-system-project-sql-python/blob/main/Tennis_ID3_decision_tree.ipynb\" target=\"_parent\"><img src=\"https://colab.research.google.com/assets/colab-badge.svg\" alt=\"Open In Colab\"/></a>"
      ]
    },
    {
      "cell_type": "code",
      "execution_count": null,
      "metadata": {
        "id": "d-9yieSlj9G4"
      },
      "outputs": [],
      "source": [
        "import pandas as pd\n",
        "import numpy as np"
      ]
    },
    {
      "cell_type": "code",
      "source": [
        "df=pd.read_csv('/content/decision_tree_tenis_data.csv')"
      ],
      "metadata": {
        "id": "kagbTQ6rlLTd"
      },
      "execution_count": null,
      "outputs": []
    },
    {
      "cell_type": "code",
      "source": [
        "df"
      ],
      "metadata": {
        "id": "BwHI4BRwldL4"
      },
      "execution_count": null,
      "outputs": []
    },
    {
      "cell_type": "code",
      "source": [
        "df2=df"
      ],
      "metadata": {
        "id": "hv_rpGKzleOt"
      },
      "execution_count": null,
      "outputs": []
    },
    {
      "cell_type": "code",
      "source": [
        "df2"
      ],
      "metadata": {
        "id": "628KVD7nlnnc"
      },
      "execution_count": null,
      "outputs": []
    },
    {
      "cell_type": "code",
      "source": [
        "x=df2.columns"
      ],
      "metadata": {
        "id": "qvshkE38ntmf"
      },
      "execution_count": null,
      "outputs": []
    },
    {
      "cell_type": "code",
      "source": [
        "for i in range(df2.shape[1]):\n",
        "  y=df2[x[i]].unique()\n",
        "  print(y)\n"
      ],
      "metadata": {
        "id": "pXjijuHcmLaF"
      },
      "execution_count": null,
      "outputs": []
    },
    {
      "cell_type": "code",
      "source": [
        "df2=df2.drop(['day'],axis=1)"
      ],
      "metadata": {
        "id": "CX6bFxjmojzF"
      },
      "execution_count": null,
      "outputs": []
    },
    {
      "cell_type": "code",
      "source": [
        "df2['outlook'].replace(['Sunny','Overcast','Rain'],[0,1,2],inplace=True)\n",
        "df2['temp'].replace(['Hot','Mild','Cool'],[0,1,2],inplace=True)\n",
        "df2['humidity'].replace(['High','Normal'],[0,1],inplace=True)\n",
        "df2['wind'].replace(['Weak','Strong'],[0,1],inplace=True)\n",
        "df2['play'].replace(['No','Yes'],[0,1],inplace=True)\n"
      ],
      "metadata": {
        "id": "DJRf3DxBlol-"
      },
      "execution_count": null,
      "outputs": []
    },
    {
      "cell_type": "code",
      "source": [
        "df2"
      ],
      "metadata": {
        "id": "-3oYbEsTmF5C"
      },
      "execution_count": null,
      "outputs": []
    },
    {
      "cell_type": "code",
      "source": [],
      "metadata": {
        "id": "UHWfb_y2mGoK"
      },
      "execution_count": null,
      "outputs": []
    }
  ]
}